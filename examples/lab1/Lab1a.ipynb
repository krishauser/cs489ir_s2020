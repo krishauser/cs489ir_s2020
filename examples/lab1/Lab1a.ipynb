{
 "cells": [
  {
   "cell_type": "code",
   "execution_count": 7,
   "metadata": {},
   "outputs": [
    {
     "data": {
      "application/vnd.jupyter.widget-view+json": {
       "model_id": "e77318cecf62431b9d0c297a2f1891e3",
       "version_major": 2,
       "version_minor": 0
      },
      "text/plain": [
       "Playback(children=(HBox(children=(Button(description='Play', icon='play', style=ButtonStyle(), tooltip='Start …"
      ]
     },
     "metadata": {},
     "output_type": "display_data"
    },
    {
     "data": {
      "application/vnd.jupyter.widget-view+json": {
       "model_id": "34490467e268414dadb0d3329b704bbd",
       "version_major": 2,
       "version_minor": 0
      },
      "text/plain": [
       "KlamptWidget()"
      ]
     },
     "metadata": {},
     "output_type": "display_data"
    }
   ],
   "source": [
    "import time\n",
    "from klampt import *\n",
    "from IPython.display import clear_output\n",
    "import ipywidgets as widgets\n",
    "#import ipyklampt\n",
    "from klampt.vis.ipython import KlamptWidget,Playback\n",
    "#kvis = ipyklampt.KlamptWidget()\n",
    "#playback_widget = ipyklampt.Playback(kvis)\n",
    "\n",
    "kvis = KlamptWidget()\n",
    "playback_widget = Playback(kvis)\n",
    "#If you'd like to show the print output, comment out this line\n",
    "clear_output()\n",
    "display(playback_widget)\n",
    "display(kvis)\n",
    "\n",
    "#Controls:\n",
    "#left mouse click to rotate the view\n",
    "#right click or ctrl+click to pan the view\n",
    "#mouse wheel or shift+click to zoom the view"
   ]
  },
  {
   "cell_type": "code",
   "execution_count": 44,
   "metadata": {},
   "outputs": [],
   "source": [
    "########################## Your code goes in this cell ################################\n",
    "import math\n",
    "from klampt.math import vectorops\n",
    "def lab1a(point1,point2):\n",
    "    #TODO: Return a tuple (length,angle), where length is the\n",
    "    #length of the segment with endpoints point1 and point2,\n",
    "    #and angle is the angle of the vector from point 1 to point 2 in\n",
    "    #degrees, in the range [0,360).\n",
    "    #    \n",
    "    #As usual, angle 0 points along the +x axis, 90 points along +y,\n",
    "    #180 points along -x, and 270 points along -y\n",
    "    length = vectorops.norm(vectorops.sub(point1,point2))\n",
    "    diff = vectorops.sub(point2,point1)\n",
    "    angle = math.atan2(diff[1],diff[0])*180.0/math.pi\n",
    "    print(angle)\n",
    "    if angle < 0:\n",
    "        angle = math.pi*2.0 + angle\n",
    "    print(angle)\n",
    "    angle = int(angle)\n",
    "    \n",
    "    displacement = [b-a for (a,b) in zip(point1,point2)]\n",
    "    return (length,angle)\n",
    "\n",
    "def fuzzy_eq(a,b,eps=1e-8):\n",
    "    \"\"\"Returns true if a is within +/- eps of b.\"\"\"\n",
    "    return abs(a-b)<=eps\n",
    "\n",
    "def selfTest():\n",
    "    \"\"\"You may use this function to make sure your values are correct\"\"\"\n",
    "    assert lab1a((0,0),(1,0)) == (1,0)\n",
    "    assert lab1a((0,0),(10,0)) == (10,0)\n",
    "    assert lab1a((0,0),(0,10)) == (10,90)\n",
    "    assert lab1a((0,0),(0,-10)) == (10,270)\n",
    "    assert lab1a((55,55),(55,45)) == (10,270)\n",
    "    assert lab1a((55,55),(55,55)) == (0,0)\n",
    "    #test whether length is symmetric, and angle has a symmetry +/- 180\n",
    "    val1 = lab1a((-53,74),(39.3,93.5))\n",
    "    val2 = lab1a((39.3,93.5),(-53,74))\n",
    "    assert val1[0] == val2[0]\n",
    "    assert fuzzy_eq(180+val1[1],val2[1])\n",
    "    return\n",
    "\n",
    "def source_motion(t):\n",
    "    return 0,0\n",
    "    #comment out the above line to make sure your lab1a routine works when the source is modified\n",
    "    return math.sin(t),math.cos(t)\n",
    "\n",
    "def target_motion(t):\n",
    "    return 1+math.sin(t+math.pi),math.cos(t*2)"
   ]
  },
  {
   "cell_type": "code",
   "execution_count": 45,
   "metadata": {},
   "outputs": [],
   "source": [
    "#run this cell to bind your code to the visualization playback window\n",
    "\n",
    "pos1 = (0,0)\n",
    "pos2 = (2,0)\n",
    "t = 0\n",
    "\n",
    "def boilerplate_start():\n",
    "    global pos1,pos2,t\n",
    "    #kvis._world.loadElement(\"data/terrains/plane.env\")\n",
    "    kvis.addSphere(\"source\", 0,0,0, r=0.05)\n",
    "    kvis.setColor(\"source\",1,0,0)\n",
    "    kvis.addSphere(\"target\", 2,0,0, r=0.05)\n",
    "    kvis.setColor(\"target\",0,0,1)\n",
    "    kvis.addLine(\"line\", 0,0,0, 2,0,0)\n",
    "    kvis.setColor(\"line\",1,1,0)\n",
    "    #kvis.addText(\"HUD1\",2,2)\n",
    "    kvis.addText(\"HUD1\",position = (2,2))\n",
    "    pos1 = (0,0)\n",
    "    pos2 = (2,0)\n",
    "    t = 0\n",
    "\n",
    "def boilerplate_advance():\n",
    "    global pos1,pos2,t\n",
    "    t += 0.02\n",
    "    pos1 = source_motion(t)\n",
    "    pos2 = target_motion(t)\n",
    "    kvis.addSphere(\"source\",pos1[0],pos1[1],0,r=None)\n",
    "    kvis.addSphere(\"target\",pos2[0],pos2[1],0,r=None)\n",
    "    kvis.addLine(\"line\",pos1[0],pos1[1],0,pos2[0],pos2[1],0)\n",
    "    #draw text\n",
    "    (length,angle) = lab1a(pos1,pos2)\n",
    "    kvis.addText(\"HUD1\",text=\"Length %f, angle %f\"%(length,angle))\n",
    "    return\n",
    "\n",
    "boilerplate_start()\n",
    "playback_widget.quiet = False\n",
    "playback_widget.reset = boilerplate_start\n",
    "playback_widget.advance = boilerplate_advance"
   ]
  },
  {
   "cell_type": "code",
   "execution_count": 47,
   "metadata": {},
   "outputs": [
    {
     "name": "stdout",
     "output_type": "stream",
     "text": [
      "0.0\n",
      "0.0\n",
      "0.0\n",
      "0.0\n",
      "90.0\n",
      "90.0\n",
      "-90.0\n",
      "-83.7168146928204\n"
     ]
    },
    {
     "ename": "AssertionError",
     "evalue": "",
     "output_type": "error",
     "traceback": [
      "\u001b[0;31m---------------------------------------------------------------------------\u001b[0m",
      "\u001b[0;31mAssertionError\u001b[0m                            Traceback (most recent call last)",
      "\u001b[0;32m<ipython-input-47-837c67a39b75>\u001b[0m in \u001b[0;36m<module>\u001b[0;34m\u001b[0m\n\u001b[1;32m      1\u001b[0m \u001b[0;31m#testing... run this cell to verify your code\u001b[0m\u001b[0;34m\u001b[0m\u001b[0;34m\u001b[0m\u001b[0;34m\u001b[0m\u001b[0m\n\u001b[0;32m----> 2\u001b[0;31m \u001b[0mselfTest\u001b[0m\u001b[0;34m(\u001b[0m\u001b[0;34m)\u001b[0m\u001b[0;34m\u001b[0m\u001b[0;34m\u001b[0m\u001b[0m\n\u001b[0m",
      "\u001b[0;32m<ipython-input-44-cadd565f7091>\u001b[0m in \u001b[0;36mselfTest\u001b[0;34m()\u001b[0m\n\u001b[1;32m     31\u001b[0m     \u001b[0;32massert\u001b[0m \u001b[0mlab1a\u001b[0m\u001b[0;34m(\u001b[0m\u001b[0;34m(\u001b[0m\u001b[0;36m0\u001b[0m\u001b[0;34m,\u001b[0m\u001b[0;36m0\u001b[0m\u001b[0;34m)\u001b[0m\u001b[0;34m,\u001b[0m\u001b[0;34m(\u001b[0m\u001b[0;36m10\u001b[0m\u001b[0;34m,\u001b[0m\u001b[0;36m0\u001b[0m\u001b[0;34m)\u001b[0m\u001b[0;34m)\u001b[0m \u001b[0;34m==\u001b[0m \u001b[0;34m(\u001b[0m\u001b[0;36m10\u001b[0m\u001b[0;34m,\u001b[0m\u001b[0;36m0\u001b[0m\u001b[0;34m)\u001b[0m\u001b[0;34m\u001b[0m\u001b[0;34m\u001b[0m\u001b[0m\n\u001b[1;32m     32\u001b[0m     \u001b[0;32massert\u001b[0m \u001b[0mlab1a\u001b[0m\u001b[0;34m(\u001b[0m\u001b[0;34m(\u001b[0m\u001b[0;36m0\u001b[0m\u001b[0;34m,\u001b[0m\u001b[0;36m0\u001b[0m\u001b[0;34m)\u001b[0m\u001b[0;34m,\u001b[0m\u001b[0;34m(\u001b[0m\u001b[0;36m0\u001b[0m\u001b[0;34m,\u001b[0m\u001b[0;36m10\u001b[0m\u001b[0;34m)\u001b[0m\u001b[0;34m)\u001b[0m \u001b[0;34m==\u001b[0m \u001b[0;34m(\u001b[0m\u001b[0;36m10\u001b[0m\u001b[0;34m,\u001b[0m\u001b[0;36m90\u001b[0m\u001b[0;34m)\u001b[0m\u001b[0;34m\u001b[0m\u001b[0;34m\u001b[0m\u001b[0m\n\u001b[0;32m---> 33\u001b[0;31m     \u001b[0;32massert\u001b[0m \u001b[0mlab1a\u001b[0m\u001b[0;34m(\u001b[0m\u001b[0;34m(\u001b[0m\u001b[0;36m0\u001b[0m\u001b[0;34m,\u001b[0m\u001b[0;36m0\u001b[0m\u001b[0;34m)\u001b[0m\u001b[0;34m,\u001b[0m\u001b[0;34m(\u001b[0m\u001b[0;36m0\u001b[0m\u001b[0;34m,\u001b[0m\u001b[0;34m-\u001b[0m\u001b[0;36m10\u001b[0m\u001b[0;34m)\u001b[0m\u001b[0;34m)\u001b[0m \u001b[0;34m==\u001b[0m \u001b[0;34m(\u001b[0m\u001b[0;36m10\u001b[0m\u001b[0;34m,\u001b[0m\u001b[0;36m270\u001b[0m\u001b[0;34m)\u001b[0m\u001b[0;34m\u001b[0m\u001b[0;34m\u001b[0m\u001b[0m\n\u001b[0m\u001b[1;32m     34\u001b[0m     \u001b[0;32massert\u001b[0m \u001b[0mlab1a\u001b[0m\u001b[0;34m(\u001b[0m\u001b[0;34m(\u001b[0m\u001b[0;36m55\u001b[0m\u001b[0;34m,\u001b[0m\u001b[0;36m55\u001b[0m\u001b[0;34m)\u001b[0m\u001b[0;34m,\u001b[0m\u001b[0;34m(\u001b[0m\u001b[0;36m55\u001b[0m\u001b[0;34m,\u001b[0m\u001b[0;36m45\u001b[0m\u001b[0;34m)\u001b[0m\u001b[0;34m)\u001b[0m \u001b[0;34m==\u001b[0m \u001b[0;34m(\u001b[0m\u001b[0;36m10\u001b[0m\u001b[0;34m,\u001b[0m\u001b[0;36m270\u001b[0m\u001b[0;34m)\u001b[0m\u001b[0;34m\u001b[0m\u001b[0;34m\u001b[0m\u001b[0m\n\u001b[1;32m     35\u001b[0m     \u001b[0;32massert\u001b[0m \u001b[0mlab1a\u001b[0m\u001b[0;34m(\u001b[0m\u001b[0;34m(\u001b[0m\u001b[0;36m55\u001b[0m\u001b[0;34m,\u001b[0m\u001b[0;36m55\u001b[0m\u001b[0;34m)\u001b[0m\u001b[0;34m,\u001b[0m\u001b[0;34m(\u001b[0m\u001b[0;36m55\u001b[0m\u001b[0;34m,\u001b[0m\u001b[0;36m55\u001b[0m\u001b[0;34m)\u001b[0m\u001b[0;34m)\u001b[0m \u001b[0;34m==\u001b[0m \u001b[0;34m(\u001b[0m\u001b[0;36m0\u001b[0m\u001b[0;34m,\u001b[0m\u001b[0;36m0\u001b[0m\u001b[0;34m)\u001b[0m\u001b[0;34m\u001b[0m\u001b[0;34m\u001b[0m\u001b[0m\n",
      "\u001b[0;31mAssertionError\u001b[0m: "
     ]
    }
   ],
   "source": [
    "#testing... run this cell to verify your code\n",
    "selfTest()"
   ]
  },
  {
   "cell_type": "code",
   "execution_count": null,
   "metadata": {},
   "outputs": [],
   "source": []
  },
  {
   "cell_type": "code",
   "execution_count": null,
   "metadata": {},
   "outputs": [],
   "source": []
  }
 ],
 "metadata": {
  "kernelspec": {
   "display_name": "cs489ir-virtualenv",
   "language": "python",
   "name": "cs489ir-virtualenv"
  },
  "language_info": {
   "codemirror_mode": {
    "name": "ipython",
    "version": 3
   },
   "file_extension": ".py",
   "mimetype": "text/x-python",
   "name": "python",
   "nbconvert_exporter": "python",
   "pygments_lexer": "ipython3",
   "version": "3.7.4"
  },
  "latex_envs": {
   "LaTeX_envs_menu_present": true,
   "autoclose": false,
   "autocomplete": true,
   "bibliofile": "biblio.bib",
   "cite_by": "apalike",
   "current_citInitial": 1,
   "eqLabelWithNumbers": true,
   "eqNumInitial": 1,
   "hotkeys": {
    "equation": "Ctrl-E",
    "itemize": "Ctrl-I"
   },
   "labels_anchors": false,
   "latex_user_defs": false,
   "report_style_numbering": false,
   "user_envs_cfg": false
  },
  "toc": {
   "base_numbering": 1,
   "nav_menu": {},
   "number_sections": true,
   "sideBar": true,
   "skip_h1_title": false,
   "title_cell": "Table of Contents",
   "title_sidebar": "Contents",
   "toc_cell": false,
   "toc_position": {},
   "toc_section_display": true,
   "toc_window_display": false
  }
 },
 "nbformat": 4,
 "nbformat_minor": 2
}
