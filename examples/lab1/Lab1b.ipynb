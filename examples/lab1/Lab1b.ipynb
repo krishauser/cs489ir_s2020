{
 "cells": [
  {
   "cell_type": "code",
   "execution_count": 1,
   "metadata": {},
   "outputs": [
    {
     "data": {
      "application/vnd.jupyter.widget-view+json": {
       "model_id": "79bd7bb061554d41b1845730878e78f3",
       "version_major": 2,
       "version_minor": 0
      },
      "text/plain": [
       "UGxheWJhY2soY2hpbGRyZW49KEhCb3goY2hpbGRyZW49KEJ1dHRvbihkZXNjcmlwdGlvbj11J1BsYXknLCBpY29uPXUncGxheScsIHN0eWxlPUJ1dHRvblN0eWxlKCksIHRvb2x0aXA9dSdTdGHigKY=\n"
      ]
     },
     "metadata": {},
     "output_type": "display_data"
    },
    {
     "data": {
      "application/vnd.jupyter.widget-view+json": {
       "model_id": "319230c1d39c4493af0694a82d6d730f",
       "version_major": 2,
       "version_minor": 0
      },
      "text/plain": [
       "KlamptWidget()"
      ]
     },
     "metadata": {},
     "output_type": "display_data"
    },
    {
     "data": {
      "application/vnd.jupyter.widget-view+json": {
       "model_id": "61ce0f73e65c486f9274ca9a0c92ad51",
       "version_major": 2,
       "version_minor": 0
      },
      "text/plain": [
       "FloatSlider(value=0.0, description=u'Angle', max=360.0)"
      ]
     },
     "metadata": {},
     "output_type": "display_data"
    }
   ],
   "source": [
    "import time\n",
    "from klampt import *\n",
    "from IPython.display import clear_output\n",
    "import ipywidgets as widgets\n",
    "import ipyklampt\n",
    "\n",
    "kvis = ipyklampt.KlamptWidget()\n",
    "playback_widget = ipyklampt.Playback(kvis)\n",
    "\n",
    "#If you'd like to show the print output, comment out this line\n",
    "#clear_output()\n",
    "display(playback_widget)\n",
    "display(kvis)\n",
    "\n",
    "slider = widgets.FloatSlider(description=\"Angle\",value=0,min=0,max=360)\n",
    "display(slider)\n",
    "#Controls:\n",
    "#left mouse click to rotate the view\n",
    "#right click or ctrl+click to pan the view\n",
    "#mouse wheel or shift+click to zoom the view"
   ]
  },
  {
   "cell_type": "code",
   "execution_count": 2,
   "metadata": {},
   "outputs": [],
   "source": [
    "########################## Your code goes in this cell ################################\n",
    "import math\n",
    "from klampt.math import so2\n",
    "\n",
    "def lab1b(point,angle):\n",
    "    #TODO: Return the coordinates of the point after\n",
    "    #rotating by the given angle about the origin.\n",
    "    #In:\n",
    "    # - point: a tuple (px,py)\n",
    "    # - angle: an angle, in degrees\n",
    "    #Out:\n",
    "    # - a tuple (qx,qy) indicating the rotated point\n",
    "    return point\n",
    "\n",
    "\n",
    "def fuzzy_eq(a,b,eps=1e-8):\n",
    "    \"\"\"Returns true if a is within +/- eps of b.\"\"\"\n",
    "    return abs(a-b)<=eps\n",
    "\n",
    "def fuzzy_veq(a,b,eps=1e-8):\n",
    "    return all(fuzzy_eq(ai,bi,eps) for ai,bi in zip(a,b)) \n",
    "\n",
    "def selfTest():\n",
    "    \"\"\"You may use this function to make sure your values are correct\"\"\"\n",
    "    assert fuzzy_veq(lab1b((1,0),0),(1,0))\n",
    "    assert fuzzy_veq(lab1b((1,10),0),(1,10))\n",
    "    assert fuzzy_veq(lab1b((10,0),90),(0,10))\n",
    "    assert fuzzy_veq(lab1b((10,5),180),(-10,-5))\n",
    "    assert fuzzy_veq(lab1b((10,5),270),(5,-10))\n",
    "    return\n"
   ]
  },
  {
   "cell_type": "code",
   "execution_count": 3,
   "metadata": {},
   "outputs": [],
   "source": [
    "#run this cell to bind your code to the visualization playback window\n",
    "from klampt.math import vectorops\n",
    "\n",
    "pos1 = (0,0)\n",
    "pos2local = (0,0)\n",
    "pos3local = (0,0)\n",
    "angle = 0\n",
    "auto = True\n",
    "\n",
    "def boilerplate_start():\n",
    "    global pos1,pos2local,pos3local,angle,auto\n",
    "    pos1 = (0,0)\n",
    "    pos2local = (3,0)\n",
    "    pos3local = (1.6,1.4)\n",
    "    angle = 0\n",
    "    auto = True\n",
    "    kvis.add_sphere(\"center\",0,0,0.1,0.1)\n",
    "    kvis.add_sphere(\"point1\",0,0,0.1,0.05)\n",
    "    kvis.add_sphere(\"point2\",0,0,0.1,0.05)\n",
    "    kvis.add_line(\"line1\", 0,0,0.1, 0,0,0.1)\n",
    "    kvis.add_line(\"line2\", 0,0,0.1, 0,0,0.1)\n",
    "    kvis.set_color(\"center\",1,0,0)\n",
    "    kvis.set_color(\"point1\",1,1,0)\n",
    "    kvis.set_color(\"point2\",1,0.5,0)\n",
    "\n",
    "def boilerplate_advance():\n",
    "    global pos1,pos2local,pos3local,angle,auto\n",
    "    pos2 = vectorops.add(pos1,lab1b(pos2local,angle))\n",
    "    pos3 = vectorops.add(pos1,lab1b(pos3local,angle))\n",
    "    kvis.add_sphere(\"point1\",pos2[0],pos2[1],0.1,r=None)\n",
    "    kvis.add_sphere(\"point2\",pos3[0],pos3[1],0.1,r=None)\n",
    "    kvis.add_line(\"line1\", 0,0,0.1, pos2[0],pos2[1],0.1)\n",
    "    kvis.add_line(\"line2\", 0,0,0.1, pos3[0],pos3[1],0.1)\n",
    "    \n",
    "    if auto:\n",
    "        angle += 2\n",
    "        if angle >= 360:\n",
    "            angle -= 360\n",
    "\n",
    "def on_new_angle(value):\n",
    "    global auto,angle\n",
    "    auto = False\n",
    "    angle = value\n",
    "    boilerplate_advance()\n",
    "            \n",
    "boilerplate_start()\n",
    "playback_widget.quiet = False\n",
    "playback_widget.reset = boilerplate_start\n",
    "playback_widget.advance = boilerplate_advance\n",
    "slider.observe(lambda change:on_new_angle(change['new']),'value')"
   ]
  },
  {
   "cell_type": "code",
   "execution_count": 15,
   "metadata": {
    "collapsed": true
   },
   "outputs": [],
   "source": [
    "#testing... run this cell to verify your code\n",
    "selfTest()"
   ]
  },
  {
   "cell_type": "code",
   "execution_count": null,
   "metadata": {
    "collapsed": true
   },
   "outputs": [],
   "source": []
  }
 ],
 "metadata": {
  "kernelspec": {
   "display_name": "Python 2.7.16",
   "language": "python",
   "name": "python2"
  },
  "language_info": {
   "codemirror_mode": {
    "name": "ipython",
    "version": 2
   },
   "file_extension": ".py",
   "mimetype": "text/x-python",
   "name": "python",
   "nbconvert_exporter": "python",
   "pygments_lexer": "ipython2",
   "version": "2.7.16"
  }
 },
 "nbformat": 4,
 "nbformat_minor": 2
}
