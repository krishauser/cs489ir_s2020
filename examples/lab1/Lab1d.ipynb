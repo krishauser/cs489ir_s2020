{
 "cells": [
  {
   "cell_type": "code",
   "execution_count": 2,
   "metadata": {
    "scrolled": false
   },
   "outputs": [
    {
     "data": {
      "application/vnd.jupyter.widget-view+json": {
       "model_id": "56911a4f7ca34b37b7c5653a98c6f4c8",
       "version_major": 2,
       "version_minor": 0
      },
      "text/plain": [
       "S2xhbXB0V2lkZ2V0KHNjZW5lPXt1J29iamVjdCc6IHt1J21hdHJpeCc6IFsxLCAwLCAwLCAwLCAwLCAwLCAtMSwgMCwgMCwgMSwgMCwgMCwgMCwgMCwgMCwgMV0sIHUndXVpZCc6IHUnYTNhMzjigKY=\n"
      ]
     },
     "metadata": {},
     "output_type": "display_data"
    },
    {
     "data": {
      "application/vnd.jupyter.widget-view+json": {
       "model_id": "930b02c708e8471abbfb16c5536d717a",
       "version_major": 2,
       "version_minor": 0
      },
      "text/plain": [
       "HBox()"
      ]
     },
     "metadata": {},
     "output_type": "display_data"
    },
    {
     "data": {
      "application/vnd.jupyter.widget-view+json": {
       "model_id": "59f873b07e53456e8e7504a850a01f66",
       "version_major": 2,
       "version_minor": 0
      },
      "text/plain": [
       "UGxheWJhY2soY2hpbGRyZW49KEhCb3goY2hpbGRyZW49KEJ1dHRvbihkZXNjcmlwdGlvbj11J1BsYXknLCBpY29uPXUncGxheScsIHN0eWxlPUJ1dHRvblN0eWxlKCksIHRvb2x0aXA9dSdTdGHigKY=\n"
      ]
     },
     "metadata": {},
     "output_type": "display_data"
    }
   ],
   "source": [
    "import time\n",
    "from klampt import *\n",
    "from IPython.display import clear_output\n",
    "import ipywidgets as widgets\n",
    "import ipyklampt\n",
    "\n",
    "world = WorldModel()\n",
    "def make_frame_widget(name,size,opacity=1.0):\n",
    "    x = world.makeRigidObject(name+\"_x\")\n",
    "    y = world.makeRigidObject(name+\"_y\")\n",
    "    z = world.makeRigidObject(name+\"_z\")\n",
    "    x.geometry().loadFile(\"data/cube.off\")\n",
    "    y.geometry().loadFile(\"data/cube.off\")\n",
    "    z.geometry().loadFile(\"data/cube.off\")\n",
    "    w = size*0.1\n",
    "    x.geometry().transform([size,0,0,0,w,0,0,0,w],[0,-w*0.5,-w*0.5])\n",
    "    y.geometry().transform([w,0,0,0,size,0,0,0,w],[-w*0.5,0,-w*0.5])\n",
    "    z.geometry().transform([w,0,0,0,w,0,0,0,size],[-w*0.5,-w*0.5,0])\n",
    "    x.appearance().setColor(1,0,0,1)\n",
    "    y.appearance().setColor(0,1,0,1)\n",
    "    z.appearance().setColor(0,0,1,1)\n",
    "\n",
    "make_frame_widget(\"start_frame\",0.3,opacity=0.5)\n",
    "make_frame_widget(\"goal_frame\",0.3,opacity=0.5)\n",
    "make_frame_widget(\"current_frame\",0.6)\n",
    "\n",
    "kvis = ipyklampt.KlamptWidget(world)\n",
    "playback_widget = ipyklampt.Playback(kvis)\n",
    "\n",
    "#If you'd like to show the print output, comment out this line\n",
    "clear_output()\n",
    "display(kvis)\n",
    "controls = widgets.HBox([])\n",
    "display(controls)\n",
    "display(playback_widget)\n",
    "\n",
    "#Controls:\n",
    "#left mouse click to rotate the view\n",
    "#right click or ctrl+click to pan the view\n",
    "#mouse wheel or shift+click to zoom the view"
   ]
  },
  {
   "cell_type": "code",
   "execution_count": 3,
   "metadata": {},
   "outputs": [],
   "source": [
    "import math\n",
    "from klampt.math import so3,se3,vectorops\n",
    "\n",
    "def interpolate_linear(a,b,u):\n",
    "    \"\"\"Interpolates linearly in cartesian space between a and b.\"\"\"\n",
    "    return vectorops.madd(a,vectorops.sub(b,a),u)\n",
    "\n",
    "def interpolate_euler_angles(ea,eb,u,convention='zyx'):\n",
    "    \"\"\"Interpolates between the two euler angles.\n",
    "    TODO: The default implementation interpolates linearly.  Can you\n",
    "    do better?\n",
    "    \"\"\"\n",
    "    return interpolate_linear(ea,eb,u)\n",
    "\n",
    "def euler_angle_to_rotation(ea,convention='zyx'):\n",
    "    \"\"\"Converts an euler angle representation to a rotation matrix.\n",
    "    Can use arbitrary axes specified by the convention\n",
    "    arguments (default is 'zyx', or roll-pitch-yaw euler angles).  Any\n",
    "    3-letter combination of 'x', 'y', and 'z' are accepted.\n",
    "    \"\"\"\n",
    "    axis_names_to_vectors = dict([('x',(1,0,0)),('y',(0,1,0)),('z',(0,0,1))])\n",
    "    axis0,axis1,axis2=convention\n",
    "    R0 = so3.rotation(axis_names_to_vectors[axis0],ea[0])\n",
    "    R1 = so3.rotation(axis_names_to_vectors[axis1],ea[1])\n",
    "    R2 = so3.rotation(axis_names_to_vectors[axis2],ea[2])\n",
    "    return so3.mul(R0,so3.mul(R1,R2))\n",
    "\n",
    "#TODO: play around with these euler angles -- they'll determine the start and end of the rotations\n",
    "ea = [math.pi/4,0,0]\n",
    "eb = [math.pi*7/4,0,0]\n",
    "\n",
    "def do_interpolate(u):\n",
    "    global ea,eb\n",
    "    #linear interpolation with euler angles\n",
    "    e = interpolate_euler_angles(ea,eb,u)\n",
    "    return euler_angle_to_rotation(e)\n",
    "    #TODO: at the end of Problem 4.2, comment out the 3 prior lines and\n",
    "    #uncomment this one.\n",
    "    #return so3.interpolate(euler_angle_to_rotation(ea),euler_angle_to_rotation(eb),u)\n"
   ]
  },
  {
   "cell_type": "code",
   "execution_count": 5,
   "metadata": {},
   "outputs": [],
   "source": [
    "#run this cell to bind your code to the visualization playback window\n",
    "from klampt.math import vectorops,so3\n",
    "\n",
    "#TODO: play around with these euler angles\n",
    "Ta,Tb = None,None\n",
    "ttotal = 0\n",
    "period = 3.0\n",
    "    \n",
    "def set_frame_widget_xform(name,T):\n",
    "    world.rigidObject(name+\"_x\").setTransform(*T)\n",
    "    world.rigidObject(name+\"_y\").setTransform(*T)\n",
    "    world.rigidObject(name+\"_z\").setTransform(*T)\n",
    "    \n",
    "def update_interpolation(u):\n",
    "    global Ta,Tb\n",
    "    R = do_interpolate(u)\n",
    "    t = interpolate_linear(Ta[1],Tb[1],u)\n",
    "    return (R,t)\n",
    "\n",
    "def boilerplate_start():\n",
    "    global Ta,Tb,ttotal\n",
    "    Ta = (euler_angle_to_rotation(ea),(-1,0,0.5))\n",
    "    Tb = (euler_angle_to_rotation(eb),(1,0,0.5))\n",
    "    ttotal = 0\n",
    "    set_frame_widget_xform(\"start_frame\",Ta)\n",
    "    set_frame_widget_xform(\"goal_frame\",Tb)\n",
    "    set_frame_widget_xform(\"current_frame\",Ta)\n",
    "    kvis.update()\n",
    "\n",
    "def boilerplate_advance():\n",
    "    #interpolate with a period of 3 seconds\n",
    "    global ttotal,period\n",
    "    ttotal += 0.02\n",
    "    u = (ttotal%period)/period\n",
    "    T = update_interpolation(u)\n",
    "    set_frame_widget_xform(\"current_frame\",T)\n",
    "\n",
    "def manual_update_cb(value):\n",
    "    global ttotal\n",
    "    global Ta,Tb\n",
    "    Ta = (euler_angle_to_rotation(ea),(-1,0,0.5))\n",
    "    Tb = (euler_angle_to_rotation(eb),(1,0,0.5))\n",
    "    set_frame_widget_xform(\"start_frame\",Ta)\n",
    "    set_frame_widget_xform(\"goal_frame\",Tb)\n",
    "    u = (ttotal%period)/period\n",
    "    T = update_interpolation(u)\n",
    "    set_frame_widget_xform(\"current_frame\",T)\n",
    "    kvis.update()\n",
    "\n",
    "def time_update_cb(change):\n",
    "    global ttotal\n",
    "    playback_widget.stop()\n",
    "    u = change['new']\n",
    "    ttotal = u*period\n",
    "    T = update_interpolation(u)\n",
    "    set_frame_widget_xform(\"current_frame\",T)\n",
    "    kvis.update()\n",
    "    \n",
    "start = ipyklampt.EditPoint(value=ea,min=[0,0,0],max=[math.pi*2]*3,labels=['yaw1','pitch1','roll1'],callback=manual_update_cb)\n",
    "end = ipyklampt.EditPoint(value=eb,min=[0,0,0],max=[math.pi*2]*3,labels=['yaw2','pitch2','roll2'],callback=manual_update_cb)\n",
    "time = widgets.FloatSlider(description=\"time\",value=0,min=0,max=1,step=0.01)\n",
    "time.observe(time_update_cb,'value')\n",
    "controls.children = (start,end,time)\n",
    "        \n",
    "boilerplate_start()\n",
    "playback_widget.quiet = False\n",
    "playback_widget.reset = boilerplate_start\n",
    "playback_widget.advance = boilerplate_advance"
   ]
  },
  {
   "cell_type": "code",
   "execution_count": null,
   "metadata": {
    "collapsed": true
   },
   "outputs": [],
   "source": [
    "#testing... run this cell to verify your code\n",
    "selfTest()"
   ]
  },
  {
   "cell_type": "markdown",
   "metadata": {
    "collapsed": true
   },
   "source": [
    "# Answers to Problem 4.2\n",
    "\n",
    "Use this space to answer the written questions posed in Problem 4.2.\n"
   ]
  },
  {
   "cell_type": "code",
   "execution_count": null,
   "metadata": {
    "collapsed": true
   },
   "outputs": [],
   "source": []
  }
 ],
 "metadata": {
  "kernelspec": {
   "display_name": "Python 2",
   "language": "python",
   "name": "python2"
  },
  "language_info": {
   "codemirror_mode": {
    "name": "ipython",
    "version": 2
   },
   "file_extension": ".py",
   "mimetype": "text/x-python",
   "name": "python",
   "nbconvert_exporter": "python",
   "pygments_lexer": "ipython2",
   "version": "2.7.12"
  }
 },
 "nbformat": 4,
 "nbformat_minor": 2
}
