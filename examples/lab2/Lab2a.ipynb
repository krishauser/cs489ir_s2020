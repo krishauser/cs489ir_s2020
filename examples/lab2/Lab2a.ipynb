{
 "cells": [
  {
   "cell_type": "code",
   "execution_count": 1,
   "metadata": {
    "scrolled": false
   },
   "outputs": [
    {
     "data": {
      "application/vnd.jupyter.widget-view+json": {
       "model_id": "8fcbebfb58664a538b1bfdcad4e1c67d",
       "version_major": 2,
       "version_minor": 0
      },
      "text/plain": [
       "S2xhbXB0V2lkZ2V0KGhlaWdodD00MDAsIHNjZW5lPXt1J29iamVjdCc6IHt1J21hdHJpeCc6IFsxLCAwLCAwLCAwLCAwLCAwLCAtMSwgMCwgMCwgMSwgMCwgMCwgMCwgMCwgMCwgMV0sIHUndXXigKY=\n"
      ]
     },
     "metadata": {},
     "output_type": "display_data"
    },
    {
     "data": {
      "application/vnd.jupyter.widget-view+json": {
       "model_id": "c138eba473024c24ad9a2525e54e0d0e",
       "version_major": 2,
       "version_minor": 0
      },
      "text/plain": [
       "HBox()"
      ]
     },
     "metadata": {},
     "output_type": "display_data"
    }
   ],
   "source": [
    "import time\n",
    "from klampt import *\n",
    "from klampt.math import vectorops,so3,se3\n",
    "from IPython.display import clear_output\n",
    "import ipywidgets as widgets\n",
    "import ipyklampt\n",
    "import math\n",
    "\n",
    "world = WorldModel()\n",
    "res = world.loadElement(\"data/robots/3R_zyy.rob\")\n",
    "kvis = ipyklampt.KlamptWidget(world,width=600,height=400)\n",
    "\n",
    "robot = world.robot(0)\n",
    "\n",
    "#If you'd like to show the print output, comment out this line\n",
    "#clear_output()\n",
    "display(kvis)\n",
    "controls = widgets.HBox([])\n",
    "display(controls)\n",
    "\n",
    "#Controls:\n",
    "#left mouse click to rotate the view\n",
    "#right click or ctrl+click to pan the view\n",
    "#mouse wheel or shift+click to zoom the view"
   ]
  },
  {
   "cell_type": "code",
   "execution_count": 5,
   "metadata": {},
   "outputs": [],
   "source": [
    "EPSILON = 1e-7\n",
    "\n",
    "def ik_2R_analytical(L1,L2,x,y):\n",
    "    \"\"\"Solve IK for a 2R robot with link lengths L1 and L2.\n",
    "    \n",
    "    Returns a pair (N,solutions)\n",
    "    - N: number of solutions (can be 0, 1, 2, or infinity)\n",
    "    - solutions: a tuple of solution configurations. If N=infinity,\n",
    "      solutions is the tuple (None,q2).\n",
    "    \"\"\"\n",
    "    r2 = x**2+y**2\n",
    "    c2 = (r2-L1**2-L2**2)/(2*L1*L2)\n",
    "    if c2 > 1.0 or c2 < -1.0:\n",
    "        return (0,())\n",
    "    q2_1 = math.acos(c2)\n",
    "    q2s = [q2_1]\n",
    "    if abs(q2_1) > EPSILON and abs(q2_1-math.pi) > EPSILON:\n",
    "        q2s.append(-q2_1)\n",
    "    solns = []\n",
    "    for q2 in q2s:\n",
    "        ex = 1.0+math.cos(q2)\n",
    "        ey = math.sin(q2)\n",
    "        if abs(ex)<EPSILON and abs(ey) < EPSILON:\n",
    "            #infinite solutions\n",
    "            return (float('inf'),(None,q2))\n",
    "        theta = math.atan2(y,x)\n",
    "        etheta = math.atan2(ey,ex)\n",
    "        solns.append((theta-etheta,q2))\n",
    "    return (len(solns),solns)\n",
    "\n",
    "\n",
    "def lab2a(L1,L2,L3,point):\n",
    "    \"\"\"\n",
    "    TODO: complete me\n",
    "    \n",
    "    Compute all IK solutions of a 3R manipulator.  The joint axes in the reference configuration\n",
    "    are ZYY, with each link's origin displaced by a given amount on the X axis.\n",
    "    In:\n",
    "    - L1, L2, L3: the link lengths\n",
    "    - point: the target position (x,y,z)\n",
    "    Out:\n",
    "    - A pair (n,solutionList) where n is the number of solutions (either 0-4,\n",
    "      or float('inf')) and solutionList is a list of all solutions.\n",
    "      In the n=0 case, it should be an empty list [], and in the n=inf case\n",
    "      it should give one example solution.\n",
    "      Each solution is a 3-tuple giving the joint angles, in radians.\n",
    "    \"\"\"\n",
    "    x,y,z = point\n",
    "    \n",
    "    #this returns no solution\n",
    "    return (0,[])\n",
    "    #this line would return one (incorrect) solution (0,0,0)\n",
    "    return (1,[(0,0,0)])\n",
    "    #this line would return two (incorrect) solutions\n",
    "    return (2,[(0,0,0),(0,0,0)])\n",
    "    #this line would return three (incorrect) solutions\n",
    "    return (3,[(0,0,0),(0,0,0),(0,0,0)])\n",
    "    #this line would return four (incorrect) solutions\n",
    "    return (4,[(0,0,0),(0,0,0),(0,0,0),(0,0,0)])\n",
    "    #this line would return infinite solutions, and one example (incorrect) solution (0,0,0)\n",
    "    return (float('inf'),[(0,0,0)])\n",
    "\n",
    "def fuzzy_eq(a,b,eps=1e-8):\n",
    "    \"\"\"Returns true if a is within +/- eps of b.\"\"\"\n",
    "    return abs(a-b)<=eps\n",
    "\n",
    "def selfTest():\n",
    "    res = lab2a(0,1,1,(2,0,0))\n",
    "    print \"Solutions for L1=0,L2=L3=1, target (2,0,0):\"\n",
    "    print res[0],\"configurations\"\n",
    "    for q in res[1]:\n",
    "        print \"  \",q\n",
    "    print \"Should have two solutions, q1=q2=q3=0 and q1=q2=pi and q3=0\"\n",
    "    \n",
    "    res = lab2a(1,1,1,(3,0,0))\n",
    "    print \"Solutions for L1=L2=L3=1, target (3,0,0):\"\n",
    "    print res[0],\"configurations\"\n",
    "    for q in res[1]:\n",
    "        print \"  \",q\n",
    "    print \"Should have 1 solution, with q1=q2=q3=0\"\n",
    "    \n",
    "    res = lab2a(0.25,1,1,(0,0,1))\n",
    "    print \"Solutions for L1=0.25, L2=L3=1, target (0,0,1):\"\n",
    "    print res[0],\"configurations\"\n",
    "    for q in res[1]:\n",
    "        print \"  \",q\n",
    "    print \"Should have infinite solutions\"\n",
    "    \n",
    "    res = lab2a(0,1,1,(0,0,1))\n",
    "    print \"Solutions for L1=0, L2=L3=1, target (0,0,1):\"\n",
    "    print res[0],\"configurations\"\n",
    "    for q in res[1]:\n",
    "        print \"  \",q\n",
    "    print \"Should have infinite solutions\""
   ]
  },
  {
   "cell_type": "code",
   "execution_count": 6,
   "metadata": {},
   "outputs": [],
   "source": [
    "#run this cell to bind your code to the visualization playback window\n",
    "target = [0.,0.,0.]\n",
    "\n",
    "ghosts = []\n",
    "ghosts.append(kvis.add_ghost(\"solution2\"))\n",
    "ghosts.append(kvis.add_ghost(\"solution3\"))\n",
    "ghosts.append(kvis.add_ghost(\"solution4\"))\n",
    "\n",
    "def point_changed_cb(value):\n",
    "    global target\n",
    "    #solve\n",
    "    solutions=lab2a(0.25,1,1,target)\n",
    "\n",
    "    #update visualization of solutions\n",
    "    if solutions[0] == 0 or solutions[0] == float('inf'):\n",
    "        #no solutions, draw robot in transparent red\n",
    "        for i in range(robot.numLinks()):\n",
    "            kvis.set_color(robot.link(i),1,0,0,0.25)\n",
    "        #hide ghosts\n",
    "        for ghost in ghosts:\n",
    "            kvis.set_color(ghost,0,0,0,0)\n",
    "    else:\n",
    "        #show/hide ghosts\n",
    "        for i,ghost in enumerate(ghosts):\n",
    "            if i+1 >= solutions[0]:\n",
    "                print \"Hiding ghost\",i\n",
    "                kvis.set_color(ghost,0,0,0,0)\n",
    "            else:\n",
    "                print \"Setting ghost\",i,\"solution\",solutions[1][i+1]\n",
    "                kvis.set_color(ghost,1,1.0/(i+2),1)\n",
    "                kvis.set_ghost_config(solutions[1][i+1],\"solution\"+str(i+2))\n",
    "        for i in range(robot.numLinks()):\n",
    "            kvis.set_color(robot.link(i),1,1,1)\n",
    "        robot.setConfig(solutions[1][0])\n",
    "    kvis.update()\n",
    "\n",
    "point_widget = ipyklampt.EditPoint(target,[-2.5]*3,[2.5]*3,klampt_widget=kvis,callback=point_changed_cb)\n",
    "\n",
    "controls.children = (point_widget,)"
   ]
  },
  {
   "cell_type": "code",
   "execution_count": 7,
   "metadata": {},
   "outputs": [
    {
     "name": "stdout",
     "output_type": "stream",
     "text": [
      "Solutions for L1=0,L2=L3=1, target (2,0,0):\n",
      "0 configurations\n",
      "Should have two solutions, q1=q2=q3=0 and q1=q2=pi and q3=0\n",
      "Solutions for L1=L2=L3=1, target (3,0,0):\n",
      "0 configurations\n",
      "Should have 1 solution, with q1=q2=q3=0\n",
      "Solutions for L1=0.25, L2=L3=1, target (0,0,1):\n",
      "0 configurations\n",
      "Should have infinite solutions\n",
      "Solutions for L1=0, L2=L3=1, target (0,0,1):\n",
      "0 configurations\n",
      "Should have infinite solutions\n"
     ]
    }
   ],
   "source": [
    "#testing... run this cell to verify your code\n",
    "selfTest()"
   ]
  },
  {
   "cell_type": "code",
   "execution_count": null,
   "metadata": {},
   "outputs": [],
   "source": []
  },
  {
   "cell_type": "code",
   "execution_count": null,
   "metadata": {},
   "outputs": [],
   "source": []
  }
 ],
 "metadata": {
  "kernelspec": {
   "display_name": "Python 2",
   "language": "python",
   "name": "python2"
  },
  "language_info": {
   "codemirror_mode": {
    "name": "ipython",
    "version": 2
   },
   "file_extension": ".py",
   "mimetype": "text/x-python",
   "name": "python",
   "nbconvert_exporter": "python",
   "pygments_lexer": "ipython2",
   "version": "2.7.11"
  },
  "latex_envs": {
   "LaTeX_envs_menu_present": true,
   "autoclose": false,
   "autocomplete": true,
   "bibliofile": "biblio.bib",
   "cite_by": "apalike",
   "current_citInitial": 1,
   "eqLabelWithNumbers": true,
   "eqNumInitial": 1,
   "hotkeys": {
    "equation": "Ctrl-E",
    "itemize": "Ctrl-I"
   },
   "labels_anchors": false,
   "latex_user_defs": false,
   "report_style_numbering": false,
   "user_envs_cfg": false
  },
  "toc": {
   "base_numbering": 1,
   "nav_menu": {},
   "number_sections": true,
   "sideBar": true,
   "skip_h1_title": false,
   "title_cell": "Table of Contents",
   "title_sidebar": "Contents",
   "toc_cell": false,
   "toc_position": {},
   "toc_section_display": true,
   "toc_window_display": false
  }
 },
 "nbformat": 4,
 "nbformat_minor": 2
}
